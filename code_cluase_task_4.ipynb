{
  "nbformat": 4,
  "nbformat_minor": 0,
  "metadata": {
    "colab": {
      "provenance": []
    },
    "kernelspec": {
      "name": "python3",
      "display_name": "Python 3"
    },
    "language_info": {
      "name": "python"
    }
  },
  "cells": [
    {
      "cell_type": "code",
      "execution_count": 1,
      "metadata": {
        "id": "KpQcRWab9G3x"
      },
      "outputs": [],
      "source": [
        "import numpy as np\n",
        "\n",
        "lexicon = {}\n",
        "\n",
        "def update_lexicon(current : str, next_word : str) -> None:\n",
        "    # Add the input word to the lexicon if it in there yet.\n",
        "    if current not in lexicon:\n",
        "        lexicon.update({current: {next_word: 1} })\n",
        "        return\n",
        "\n",
        "    # Recieve te probabilties of the input word.\n",
        "    options = lexicon[current]\n",
        "\n",
        "    # Check if the output word is in the propability list.\n",
        "    if next_word not in options:\n",
        "        options.update({next_word : 1})\n",
        "    else:\n",
        "        options.update({next_word : options[next_word] + 1})\n",
        "\n",
        "    # Update the lexicon\n",
        "    lexicon[current] = options"
      ]
    },
    {
      "cell_type": "code",
      "source": [
        "with open('1001.txt', 'r') as dataset:\n",
        "    for line in dataset:\n",
        "        words = line.strip().split(' ')\n",
        "        for i in range(len(words) - 1):\n",
        "            update_lexicon(words[i], words[i+1])"
      ],
      "metadata": {
        "id": "W8FJ55FG9H6Y"
      },
      "execution_count": 3,
      "outputs": []
    },
    {
      "cell_type": "code",
      "source": [
        "for word, transition in lexicon.items():\n",
        "    transition = dict((key, value / sum(transition.values())) for key, value in transition.items())\n",
        "    lexicon[word] = transition\n",
        "    \n",
        "line = input('> ')\n",
        "word = line.strip().split(' ')[-1]\n",
        "if word not in lexicon:\n",
        "    print('Word not found')\n",
        "else:\n",
        "    options = lexicon[word]\n",
        "    predicted = np.random.choice(list(options.keys()), p=list(options.values()))\n",
        "    print(line + ' ' + predicted)"
      ],
      "metadata": {
        "colab": {
          "base_uri": "https://localhost:8080/"
        },
        "id": "e8HSpkwY9Yvs",
        "outputId": "07e5ec17-daa5-47f5-d294-e702580d0889"
      },
      "execution_count": 4,
      "outputs": [
        {
          "output_type": "stream",
          "name": "stdout",
          "text": [
            "> always\n",
            "always special.\n"
          ]
        }
      ]
    },
    {
      "cell_type": "code",
      "source": [],
      "metadata": {
        "id": "dqlbmg2u9hys"
      },
      "execution_count": null,
      "outputs": []
    }
  ]
}